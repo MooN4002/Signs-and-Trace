{
 "cells": [
  {
   "cell_type": "code",
   "execution_count": 2,
   "id": "2ef84151-5f70-42fd-990c-c723a46cbc69",
   "metadata": {},
   "outputs": [
    {
     "name": "stdout",
     "output_type": "stream",
     "text": [
      "Collecting matplotlib\n",
      "  Downloading matplotlib-3.10.0-cp312-cp312-win_amd64.whl.metadata (11 kB)\n",
      "Collecting contourpy>=1.0.1 (from matplotlib)\n",
      "  Downloading contourpy-1.3.1-cp312-cp312-win_amd64.whl.metadata (5.4 kB)\n",
      "Collecting cycler>=0.10 (from matplotlib)\n",
      "  Downloading cycler-0.12.1-py3-none-any.whl.metadata (3.8 kB)\n",
      "Collecting fonttools>=4.22.0 (from matplotlib)\n",
      "  Downloading fonttools-4.55.3-cp312-cp312-win_amd64.whl.metadata (168 kB)\n",
      "Collecting kiwisolver>=1.3.1 (from matplotlib)\n",
      "  Downloading kiwisolver-1.4.8-cp312-cp312-win_amd64.whl.metadata (6.3 kB)\n",
      "Requirement already satisfied: numpy>=1.23 in d:\\python\\lib\\site-packages (from matplotlib) (2.0.2)\n",
      "Requirement already satisfied: packaging>=20.0 in d:\\python\\lib\\site-packages (from matplotlib) (24.2)\n",
      "Collecting pillow>=8 (from matplotlib)\n",
      "  Downloading pillow-11.1.0-cp312-cp312-win_amd64.whl.metadata (9.3 kB)\n",
      "Collecting pyparsing>=2.3.1 (from matplotlib)\n",
      "  Downloading pyparsing-3.2.1-py3-none-any.whl.metadata (5.0 kB)\n",
      "Requirement already satisfied: python-dateutil>=2.7 in d:\\python\\lib\\site-packages (from matplotlib) (2.9.0.post0)\n",
      "Requirement already satisfied: six>=1.5 in d:\\python\\lib\\site-packages (from python-dateutil>=2.7->matplotlib) (1.16.0)\n",
      "Downloading matplotlib-3.10.0-cp312-cp312-win_amd64.whl (8.0 MB)\n",
      "   ---------------------------------------- 0.0/8.0 MB ? eta -:--:--\n",
      "   -- ------------------------------------- 0.5/8.0 MB 3.4 MB/s eta 0:00:03\n",
      "   ------ --------------------------------- 1.3/8.0 MB 3.9 MB/s eta 0:00:02\n",
      "   ---------- ----------------------------- 2.1/8.0 MB 4.3 MB/s eta 0:00:02\n",
      "   --------------- ------------------------ 3.1/8.0 MB 4.0 MB/s eta 0:00:02\n",
      "   ------------------- -------------------- 3.9/8.0 MB 4.1 MB/s eta 0:00:02\n",
      "   ----------------------- ---------------- 4.7/8.0 MB 4.1 MB/s eta 0:00:01\n",
      "   -------------------------- ------------- 5.2/8.0 MB 4.0 MB/s eta 0:00:01\n",
      "   ---------------------------- ----------- 5.8/8.0 MB 3.5 MB/s eta 0:00:01\n",
      "   ------------------------------- -------- 6.3/8.0 MB 3.4 MB/s eta 0:00:01\n",
      "   ----------------------------------- ---- 7.1/8.0 MB 3.2 MB/s eta 0:00:01\n",
      "   ------------------------------------- -- 7.6/8.0 MB 3.2 MB/s eta 0:00:01\n",
      "   ---------------------------------------- 8.0/8.0 MB 3.1 MB/s eta 0:00:00\n",
      "Downloading contourpy-1.3.1-cp312-cp312-win_amd64.whl (220 kB)\n",
      "Downloading cycler-0.12.1-py3-none-any.whl (8.3 kB)\n",
      "Downloading fonttools-4.55.3-cp312-cp312-win_amd64.whl (2.2 MB)\n",
      "   ---------------------------------------- 0.0/2.2 MB ? eta -:--:--\n",
      "   ------------------ --------------------- 1.0/2.2 MB 16.7 MB/s eta 0:00:01\n",
      "   ------------------ --------------------- 1.0/2.2 MB 16.7 MB/s eta 0:00:01\n",
      "   ------------------ --------------------- 1.0/2.2 MB 16.7 MB/s eta 0:00:01\n",
      "   ---------------------------------------- 2.2/2.2 MB 2.1 MB/s eta 0:00:00\n",
      "Downloading kiwisolver-1.4.8-cp312-cp312-win_amd64.whl (71 kB)\n",
      "Downloading pillow-11.1.0-cp312-cp312-win_amd64.whl (2.6 MB)\n",
      "   ---------------------------------------- 0.0/2.6 MB ? eta -:--:--\n",
      "   ---------------------------------------- 0.0/2.6 MB ? eta -:--:--\n",
      "   ------------------------------- -------- 2.1/2.6 MB 122.3 MB/s eta 0:00:01\n",
      "   ---------------------------------------  2.6/2.6 MB 8.4 MB/s eta 0:00:01\n",
      "   ---------------------------------------- 2.6/2.6 MB 6.3 MB/s eta 0:00:00\n",
      "Downloading pyparsing-3.2.1-py3-none-any.whl (107 kB)\n",
      "Installing collected packages: pyparsing, pillow, kiwisolver, fonttools, cycler, contourpy, matplotlib\n",
      "Successfully installed contourpy-1.3.1 cycler-0.12.1 fonttools-4.55.3 kiwisolver-1.4.8 matplotlib-3.10.0 pillow-11.1.0 pyparsing-3.2.1\n"
     ]
    }
   ],
   "source": [
    "!pip install matplotlib"
   ]
  },
  {
   "cell_type": "code",
   "execution_count": 1,
   "id": "51dd6eb1-7748-40d4-9c54-9d49a26bdc16",
   "metadata": {},
   "outputs": [
    {
     "name": "stdout",
     "output_type": "stream",
     "text": [
      "Collecting pyttsx3\n",
      "  Downloading pyttsx3-2.98-py3-none-any.whl.metadata (3.8 kB)\n",
      "Collecting comtypes (from pyttsx3)\n",
      "  Downloading comtypes-1.4.9-py3-none-any.whl.metadata (7.1 kB)\n",
      "Collecting pypiwin32 (from pyttsx3)\n",
      "  Downloading pypiwin32-223-py3-none-any.whl.metadata (236 bytes)\n",
      "Requirement already satisfied: pywin32 in d:\\python\\lib\\site-packages (from pyttsx3) (308)\n",
      "Downloading pyttsx3-2.98-py3-none-any.whl (34 kB)\n",
      "Downloading comtypes-1.4.9-py3-none-any.whl (234 kB)\n",
      "Downloading pypiwin32-223-py3-none-any.whl (1.7 kB)\n",
      "Installing collected packages: pypiwin32, comtypes, pyttsx3\n",
      "Successfully installed comtypes-1.4.9 pypiwin32-223 pyttsx3-2.98\n"
     ]
    }
   ],
   "source": [
    "!pip install pyttsx3"
   ]
  },
  {
   "cell_type": "code",
   "execution_count": 2,
   "id": "f81c5992-fd43-46c4-9276-06ef89922bf9",
   "metadata": {},
   "outputs": [
    {
     "name": "stdout",
     "output_type": "stream",
     "text": [
      "Collecting pandas\n",
      "  Downloading pandas-2.2.3-cp312-cp312-win_amd64.whl.metadata (19 kB)\n",
      "Requirement already satisfied: numpy>=1.26.0 in d:\\python\\lib\\site-packages (from pandas) (2.0.2)\n",
      "Requirement already satisfied: python-dateutil>=2.8.2 in d:\\python\\lib\\site-packages (from pandas) (2.9.0.post0)\n",
      "Collecting pytz>=2020.1 (from pandas)\n",
      "  Downloading pytz-2024.2-py2.py3-none-any.whl.metadata (22 kB)\n",
      "Collecting tzdata>=2022.7 (from pandas)\n",
      "  Downloading tzdata-2024.2-py2.py3-none-any.whl.metadata (1.4 kB)\n",
      "Requirement already satisfied: six>=1.5 in d:\\python\\lib\\site-packages (from python-dateutil>=2.8.2->pandas) (1.16.0)\n",
      "Downloading pandas-2.2.3-cp312-cp312-win_amd64.whl (11.5 MB)\n",
      "   ---------------------------------------- 0.0/11.5 MB ? eta -:--:--\n",
      "    --------------------------------------- 0.3/11.5 MB ? eta -:--:--\n",
      "   -- ------------------------------------- 0.8/11.5 MB 3.4 MB/s eta 0:00:04\n",
      "   ------ --------------------------------- 1.8/11.5 MB 3.9 MB/s eta 0:00:03\n",
      "   -------- ------------------------------- 2.4/11.5 MB 3.6 MB/s eta 0:00:03\n",
      "   --------- ------------------------------ 2.6/11.5 MB 3.7 MB/s eta 0:00:03\n",
      "   ---------- ----------------------------- 2.9/11.5 MB 2.8 MB/s eta 0:00:04\n",
      "   ----------- ---------------------------- 3.4/11.5 MB 2.6 MB/s eta 0:00:04\n",
      "   ------------- -------------------------- 3.9/11.5 MB 2.7 MB/s eta 0:00:03\n",
      "   ---------------- ----------------------- 4.7/11.5 MB 2.6 MB/s eta 0:00:03\n",
      "   ----------------- ---------------------- 5.0/11.5 MB 2.6 MB/s eta 0:00:03\n",
      "   ----------------- ---------------------- 5.0/11.5 MB 2.6 MB/s eta 0:00:03\n",
      "   ------------------ --------------------- 5.2/11.5 MB 2.2 MB/s eta 0:00:03\n",
      "   -------------------- ------------------- 6.0/11.5 MB 2.3 MB/s eta 0:00:03\n",
      "   ---------------------- ----------------- 6.6/11.5 MB 2.3 MB/s eta 0:00:03\n",
      "   ------------------------ --------------- 7.1/11.5 MB 2.3 MB/s eta 0:00:02\n",
      "   ------------------------- -------------- 7.3/11.5 MB 2.3 MB/s eta 0:00:02\n",
      "   ---------------------------- ----------- 8.1/11.5 MB 2.3 MB/s eta 0:00:02\n",
      "   ------------------------------ --------- 8.7/11.5 MB 2.4 MB/s eta 0:00:02\n",
      "   -------------------------------- ------- 9.4/11.5 MB 2.4 MB/s eta 0:00:01\n",
      "   --------------------------------- ------ 9.7/11.5 MB 2.4 MB/s eta 0:00:01\n",
      "   ---------------------------------- ----- 10.0/11.5 MB 2.2 MB/s eta 0:00:01\n",
      "   ------------------------------------ --- 10.5/11.5 MB 2.3 MB/s eta 0:00:01\n",
      "   ------------------------------------- -- 10.7/11.5 MB 2.3 MB/s eta 0:00:01\n",
      "   ---------------------------------------  11.3/11.5 MB 2.2 MB/s eta 0:00:01\n",
      "   ---------------------------------------- 11.5/11.5 MB 2.2 MB/s eta 0:00:00\n",
      "Downloading pytz-2024.2-py2.py3-none-any.whl (508 kB)\n",
      "Downloading tzdata-2024.2-py2.py3-none-any.whl (346 kB)\n",
      "Installing collected packages: pytz, tzdata, pandas\n",
      "Successfully installed pandas-2.2.3 pytz-2024.2 tzdata-2024.2\n",
      "Note: you may need to restart the kernel to use updated packages.\n"
     ]
    }
   ],
   "source": [
    "pip install pandas"
   ]
  },
  {
   "cell_type": "code",
   "execution_count": 6,
   "id": "1e2340b3-ded0-47fd-b559-e79987ec92f9",
   "metadata": {},
   "outputs": [
    {
     "name": "stdout",
     "output_type": "stream",
     "text": [
      "Collecting opencv-pythonNote: you may need to restart the kernel to use updated packages.\n",
      "\n",
      "  Downloading opencv_python-4.10.0.84-cp37-abi3-win_amd64.whl.metadata (20 kB)\n",
      "Requirement already satisfied: numpy>=1.21.2 in d:\\python\\lib\\site-packages (from opencv-python) (2.0.2)\n",
      "Downloading opencv_python-4.10.0.84-cp37-abi3-win_amd64.whl (38.8 MB)\n",
      "   ---------------------------------------- 0.0/38.8 MB ? eta -:--:--\n",
      "    --------------------------------------- 0.5/38.8 MB 4.2 MB/s eta 0:00:10\n",
      "   - -------------------------------------- 1.3/38.8 MB 3.7 MB/s eta 0:00:11\n",
      "   -- ------------------------------------- 2.1/38.8 MB 3.9 MB/s eta 0:00:10\n",
      "   -- ------------------------------------- 2.9/38.8 MB 3.7 MB/s eta 0:00:10\n",
      "   --- ------------------------------------ 3.4/38.8 MB 3.6 MB/s eta 0:00:10\n",
      "   ---- ----------------------------------- 3.9/38.8 MB 3.5 MB/s eta 0:00:10\n",
      "   ---- ----------------------------------- 4.7/38.8 MB 3.5 MB/s eta 0:00:10\n",
      "   ----- ---------------------------------- 5.8/38.8 MB 3.6 MB/s eta 0:00:10\n",
      "   ------- -------------------------------- 6.8/38.8 MB 3.7 MB/s eta 0:00:09\n",
      "   ------- -------------------------------- 7.6/38.8 MB 3.7 MB/s eta 0:00:09\n",
      "   -------- ------------------------------- 8.4/38.8 MB 3.7 MB/s eta 0:00:09\n",
      "   --------- ------------------------------ 9.2/38.8 MB 3.8 MB/s eta 0:00:08\n",
      "   ---------- ----------------------------- 10.0/38.8 MB 3.8 MB/s eta 0:00:08\n",
      "   ---------- ----------------------------- 10.5/38.8 MB 3.7 MB/s eta 0:00:08\n",
      "   ----------- ---------------------------- 11.0/38.8 MB 3.6 MB/s eta 0:00:08\n",
      "   ------------ --------------------------- 11.8/38.8 MB 3.5 MB/s eta 0:00:08\n",
      "   ------------ --------------------------- 12.1/38.8 MB 3.5 MB/s eta 0:00:08\n",
      "   ------------ --------------------------- 12.6/38.8 MB 3.4 MB/s eta 0:00:08\n",
      "   ------------- -------------------------- 13.4/38.8 MB 3.2 MB/s eta 0:00:08\n",
      "   -------------- ------------------------- 13.9/38.8 MB 3.2 MB/s eta 0:00:08\n",
      "   -------------- ------------------------- 14.2/38.8 MB 3.1 MB/s eta 0:00:09\n",
      "   --------------- ------------------------ 14.7/38.8 MB 3.1 MB/s eta 0:00:08\n",
      "   --------------- ------------------------ 15.5/38.8 MB 3.1 MB/s eta 0:00:08\n",
      "   ---------------- ----------------------- 16.0/38.8 MB 3.1 MB/s eta 0:00:08\n",
      "   ----------------- ---------------------- 17.0/38.8 MB 3.1 MB/s eta 0:00:08\n",
      "   ------------------ --------------------- 17.6/38.8 MB 3.0 MB/s eta 0:00:08\n",
      "   ------------------ --------------------- 17.8/38.8 MB 3.0 MB/s eta 0:00:08\n",
      "   ------------------ --------------------- 18.4/38.8 MB 3.0 MB/s eta 0:00:07\n",
      "   ------------------- -------------------- 18.9/38.8 MB 3.0 MB/s eta 0:00:07\n",
      "   ------------------- -------------------- 19.1/38.8 MB 2.9 MB/s eta 0:00:07\n",
      "   --------------------- ------------------ 20.4/38.8 MB 2.9 MB/s eta 0:00:07\n",
      "   --------------------- ------------------ 21.0/38.8 MB 2.9 MB/s eta 0:00:07\n",
      "   ---------------------- ----------------- 21.8/38.8 MB 2.9 MB/s eta 0:00:06\n",
      "   ---------------------- ----------------- 22.3/38.8 MB 2.9 MB/s eta 0:00:06\n",
      "   ----------------------- ---------------- 22.8/38.8 MB 2.9 MB/s eta 0:00:06\n",
      "   ------------------------ --------------- 23.3/38.8 MB 2.8 MB/s eta 0:00:06\n",
      "   ------------------------ --------------- 23.6/38.8 MB 2.8 MB/s eta 0:00:06\n",
      "   ------------------------ --------------- 23.9/38.8 MB 2.7 MB/s eta 0:00:06\n",
      "   ------------------------ --------------- 24.1/38.8 MB 2.7 MB/s eta 0:00:06\n",
      "   ------------------------- -------------- 24.6/38.8 MB 2.7 MB/s eta 0:00:06\n",
      "   ------------------------- -------------- 25.2/38.8 MB 2.7 MB/s eta 0:00:06\n",
      "   -------------------------- ------------- 25.4/38.8 MB 2.6 MB/s eta 0:00:06\n",
      "   -------------------------- ------------- 26.0/38.8 MB 2.6 MB/s eta 0:00:05\n",
      "   -------------------------- ------------- 26.2/38.8 MB 2.6 MB/s eta 0:00:05\n",
      "   -------------------------- ------------- 26.2/38.8 MB 2.6 MB/s eta 0:00:05\n",
      "   -------------------------- ------------- 26.2/38.8 MB 2.6 MB/s eta 0:00:05\n",
      "   -------------------------- ------------- 26.2/38.8 MB 2.6 MB/s eta 0:00:05\n",
      "   -------------------------- ------------- 26.2/38.8 MB 2.6 MB/s eta 0:00:05\n",
      "   -------------------------- ------------- 26.2/38.8 MB 2.6 MB/s eta 0:00:05\n",
      "   -------------------------- ------------- 26.2/38.8 MB 2.6 MB/s eta 0:00:05\n",
      "   ---------------------------- ----------- 27.8/38.8 MB 2.3 MB/s eta 0:00:05\n",
      "   ---------------------------- ----------- 27.8/38.8 MB 2.3 MB/s eta 0:00:05\n",
      "   ---------------------------- ----------- 28.0/38.8 MB 2.3 MB/s eta 0:00:05\n",
      "   ----------------------------- ---------- 28.3/38.8 MB 2.3 MB/s eta 0:00:05\n",
      "   ----------------------------- ---------- 28.8/38.8 MB 2.3 MB/s eta 0:00:05\n",
      "   ------------------------------ --------- 29.6/38.8 MB 2.3 MB/s eta 0:00:05\n",
      "   ------------------------------- -------- 30.1/38.8 MB 2.3 MB/s eta 0:00:04\n",
      "   ------------------------------- -------- 30.7/38.8 MB 2.3 MB/s eta 0:00:04\n",
      "   ------------------------------- -------- 30.9/38.8 MB 2.3 MB/s eta 0:00:04\n",
      "   -------------------------------- ------- 31.5/38.8 MB 2.3 MB/s eta 0:00:04\n",
      "   -------------------------------- ------- 32.0/38.8 MB 2.3 MB/s eta 0:00:04\n",
      "   --------------------------------- ------ 32.5/38.8 MB 2.3 MB/s eta 0:00:03\n",
      "   ---------------------------------- ----- 33.3/38.8 MB 2.3 MB/s eta 0:00:03\n",
      "   ----------------------------------- ---- 34.3/38.8 MB 2.3 MB/s eta 0:00:02\n",
      "   ------------------------------------ --- 35.1/38.8 MB 2.3 MB/s eta 0:00:02\n",
      "   ------------------------------------ --- 35.9/38.8 MB 2.4 MB/s eta 0:00:02\n",
      "   ------------------------------------- -- 36.4/38.8 MB 2.4 MB/s eta 0:00:02\n",
      "   -------------------------------------- - 37.0/38.8 MB 2.4 MB/s eta 0:00:01\n",
      "   -------------------------------------- - 37.2/38.8 MB 2.4 MB/s eta 0:00:01\n",
      "   -------------------------------------- - 37.7/38.8 MB 2.4 MB/s eta 0:00:01\n",
      "   ---------------------------------------  38.8/38.8 MB 2.4 MB/s eta 0:00:01\n",
      "   ---------------------------------------- 38.8/38.8 MB 2.4 MB/s eta 0:00:00\n",
      "Installing collected packages: opencv-python\n",
      "Successfully installed opencv-python-4.10.0.84\n"
     ]
    }
   ],
   "source": [
    "pip install opencv-python"
   ]
  },
  {
   "cell_type": "code",
   "execution_count": 8,
   "id": "76749ad3-08e8-4c50-a5f5-d715f480df37",
   "metadata": {},
   "outputs": [
    {
     "name": "stdout",
     "output_type": "stream",
     "text": [
      "Collecting scikit-learn\n",
      "  Downloading scikit_learn-1.6.1-cp312-cp312-win_amd64.whl.metadata (15 kB)\n",
      "Requirement already satisfied: numpy>=1.19.5 in d:\\python\\lib\\site-packages (from scikit-learn) (2.0.2)\n",
      "Collecting scipy>=1.6.0 (from scikit-learn)\n",
      "  Downloading scipy-1.15.1-cp312-cp312-win_amd64.whl.metadata (60 kB)\n",
      "Requirement already satisfied: joblib>=1.2.0 in d:\\python\\lib\\site-packages (from scikit-learn) (1.4.2)\n",
      "Collecting threadpoolctl>=3.1.0 (from scikit-learn)\n",
      "  Downloading threadpoolctl-3.5.0-py3-none-any.whl.metadata (13 kB)\n",
      "Downloading scikit_learn-1.6.1-cp312-cp312-win_amd64.whl (11.1 MB)\n",
      "   ---------------------------------------- 0.0/11.1 MB ? eta -:--:--\n",
      "    --------------------------------------- 0.3/11.1 MB ? eta -:--:--\n",
      "   -- ------------------------------------- 0.8/11.1 MB 2.6 MB/s eta 0:00:04\n",
      "   ----- ---------------------------------- 1.6/11.1 MB 2.4 MB/s eta 0:00:04\n",
      "   ------- -------------------------------- 2.1/11.1 MB 2.4 MB/s eta 0:00:04\n",
      "   --------- ------------------------------ 2.6/11.1 MB 2.6 MB/s eta 0:00:04\n",
      "   ----------- ---------------------------- 3.1/11.1 MB 2.6 MB/s eta 0:00:04\n",
      "   ------------- -------------------------- 3.7/11.1 MB 2.6 MB/s eta 0:00:03\n",
      "   ---------------- ----------------------- 4.5/11.1 MB 2.4 MB/s eta 0:00:03\n",
      "   ----------------- ---------------------- 5.0/11.1 MB 2.5 MB/s eta 0:00:03\n",
      "   ------------------- -------------------- 5.5/11.1 MB 2.4 MB/s eta 0:00:03\n",
      "   -------------------- ------------------- 5.8/11.1 MB 2.4 MB/s eta 0:00:03\n",
      "   ---------------------- ----------------- 6.3/11.1 MB 2.4 MB/s eta 0:00:03\n",
      "   ------------------------ --------------- 6.8/11.1 MB 2.4 MB/s eta 0:00:02\n",
      "   --------------------------- ------------ 7.6/11.1 MB 2.3 MB/s eta 0:00:02\n",
      "   ---------------------------- ----------- 7.9/11.1 MB 2.3 MB/s eta 0:00:02\n",
      "   ----------------------------- ---------- 8.1/11.1 MB 2.2 MB/s eta 0:00:02\n",
      "   ------------------------------ --------- 8.4/11.1 MB 2.1 MB/s eta 0:00:02\n",
      "   ------------------------------- -------- 8.7/11.1 MB 2.1 MB/s eta 0:00:02\n",
      "   -------------------------------- ------- 8.9/11.1 MB 2.0 MB/s eta 0:00:02\n",
      "   --------------------------------- ------ 9.2/11.1 MB 1.9 MB/s eta 0:00:01\n",
      "   ---------------------------------- ----- 9.7/11.1 MB 2.0 MB/s eta 0:00:01\n",
      "   ------------------------------------- -- 10.5/11.1 MB 2.0 MB/s eta 0:00:01\n",
      "   ---------------------------------------  11.0/11.1 MB 2.1 MB/s eta 0:00:01\n",
      "   ---------------------------------------- 11.1/11.1 MB 2.0 MB/s eta 0:00:00\n",
      "Downloading scipy-1.15.1-cp312-cp312-win_amd64.whl (43.6 MB)\n",
      "   ---------------------------------------- 0.0/43.6 MB ? eta -:--:--\n",
      "   ---------------------------------------- 0.5/43.6 MB 4.2 MB/s eta 0:00:11\n",
      "    --------------------------------------- 1.0/43.6 MB 3.1 MB/s eta 0:00:14\n",
      "   - -------------------------------------- 1.6/43.6 MB 2.9 MB/s eta 0:00:15\n",
      "   -- ------------------------------------- 2.6/43.6 MB 2.6 MB/s eta 0:00:16\n",
      "   -- ------------------------------------- 3.1/43.6 MB 2.7 MB/s eta 0:00:15\n",
      "   --- ------------------------------------ 3.7/43.6 MB 2.7 MB/s eta 0:00:15\n",
      "   --- ------------------------------------ 4.2/43.6 MB 2.5 MB/s eta 0:00:16\n",
      "   ---- ----------------------------------- 4.5/43.6 MB 2.6 MB/s eta 0:00:16\n",
      "   ---- ----------------------------------- 5.0/43.6 MB 2.5 MB/s eta 0:00:16\n",
      "   ----- ---------------------------------- 5.5/43.6 MB 2.5 MB/s eta 0:00:16\n",
      "   ------ --------------------------------- 6.6/43.6 MB 2.6 MB/s eta 0:00:15\n",
      "   ------ --------------------------------- 7.1/43.6 MB 2.6 MB/s eta 0:00:15\n",
      "   ------ --------------------------------- 7.6/43.6 MB 2.7 MB/s eta 0:00:14\n",
      "   ------- -------------------------------- 8.4/43.6 MB 2.6 MB/s eta 0:00:14\n",
      "   -------- ------------------------------- 8.9/43.6 MB 2.7 MB/s eta 0:00:14\n",
      "   --------- ------------------------------ 10.0/43.6 MB 2.7 MB/s eta 0:00:13\n",
      "   --------- ------------------------------ 10.7/43.6 MB 2.8 MB/s eta 0:00:12\n",
      "   ---------- ----------------------------- 11.3/43.6 MB 2.8 MB/s eta 0:00:12\n",
      "   ---------- ----------------------------- 11.8/43.6 MB 2.8 MB/s eta 0:00:12\n",
      "   ----------- ---------------------------- 12.6/43.6 MB 2.8 MB/s eta 0:00:12\n",
      "   ------------ --------------------------- 13.1/43.6 MB 2.8 MB/s eta 0:00:12\n",
      "   ------------ --------------------------- 13.6/43.6 MB 2.8 MB/s eta 0:00:11\n",
      "   ------------ --------------------------- 13.9/43.6 MB 2.7 MB/s eta 0:00:11\n",
      "   ------------- -------------------------- 14.7/43.6 MB 2.7 MB/s eta 0:00:11\n",
      "   -------------- ------------------------- 15.5/43.6 MB 2.7 MB/s eta 0:00:11\n",
      "   -------------- ------------------------- 16.0/43.6 MB 2.7 MB/s eta 0:00:11\n",
      "   --------------- ------------------------ 16.5/43.6 MB 2.7 MB/s eta 0:00:10\n",
      "   --------------- ------------------------ 17.3/43.6 MB 2.8 MB/s eta 0:00:10\n",
      "   ---------------- ----------------------- 18.1/43.6 MB 2.7 MB/s eta 0:00:10\n",
      "   ----------------- ---------------------- 18.9/43.6 MB 2.8 MB/s eta 0:00:09\n",
      "   ------------------ --------------------- 19.7/43.6 MB 2.8 MB/s eta 0:00:09\n",
      "   ------------------ --------------------- 20.2/43.6 MB 2.8 MB/s eta 0:00:09\n",
      "   ------------------ --------------------- 20.4/43.6 MB 2.8 MB/s eta 0:00:09\n",
      "   ------------------- -------------------- 21.0/43.6 MB 2.7 MB/s eta 0:00:09\n",
      "   ------------------- -------------------- 21.2/43.6 MB 2.7 MB/s eta 0:00:09\n",
      "   ------------------- -------------------- 21.8/43.6 MB 2.7 MB/s eta 0:00:09\n",
      "   -------------------- ------------------- 22.3/43.6 MB 2.7 MB/s eta 0:00:08\n",
      "   -------------------- ------------------- 22.5/43.6 MB 2.7 MB/s eta 0:00:08\n",
      "   --------------------- ------------------ 23.1/43.6 MB 2.6 MB/s eta 0:00:08\n",
      "   --------------------- ------------------ 23.3/43.6 MB 2.6 MB/s eta 0:00:08\n",
      "   --------------------- ------------------ 23.9/43.6 MB 2.6 MB/s eta 0:00:08\n",
      "   ---------------------- ----------------- 24.6/43.6 MB 2.6 MB/s eta 0:00:08\n",
      "   ----------------------- ---------------- 25.2/43.6 MB 2.6 MB/s eta 0:00:08\n",
      "   ----------------------- ---------------- 26.0/43.6 MB 2.6 MB/s eta 0:00:07\n",
      "   ------------------------ --------------- 26.5/43.6 MB 2.6 MB/s eta 0:00:07\n",
      "   ------------------------ --------------- 26.7/43.6 MB 2.6 MB/s eta 0:00:07\n",
      "   ------------------------ --------------- 27.3/43.6 MB 2.6 MB/s eta 0:00:07\n",
      "   ------------------------- -------------- 27.5/43.6 MB 2.6 MB/s eta 0:00:07\n",
      "   ------------------------- -------------- 28.0/43.6 MB 2.5 MB/s eta 0:00:07\n",
      "   -------------------------- ------------- 28.6/43.6 MB 2.5 MB/s eta 0:00:06\n",
      "   -------------------------- ------------- 29.1/43.6 MB 2.5 MB/s eta 0:00:06\n",
      "   --------------------------- ------------ 29.6/43.6 MB 2.5 MB/s eta 0:00:06\n",
      "   --------------------------- ------------ 29.9/43.6 MB 2.5 MB/s eta 0:00:06\n",
      "   --------------------------- ------------ 30.4/43.6 MB 2.5 MB/s eta 0:00:06\n",
      "   ---------------------------- ----------- 30.9/43.6 MB 2.5 MB/s eta 0:00:06\n",
      "   ---------------------------- ----------- 31.2/43.6 MB 2.5 MB/s eta 0:00:06\n",
      "   ---------------------------- ----------- 31.5/43.6 MB 2.5 MB/s eta 0:00:05\n",
      "   ----------------------------- ---------- 32.0/43.6 MB 2.4 MB/s eta 0:00:05\n",
      "   ----------------------------- ---------- 32.2/43.6 MB 2.4 MB/s eta 0:00:05\n",
      "   ------------------------------ --------- 32.8/43.6 MB 2.4 MB/s eta 0:00:05\n",
      "   ------------------------------ --------- 33.3/43.6 MB 2.4 MB/s eta 0:00:05\n",
      "   ------------------------------- -------- 33.8/43.6 MB 2.4 MB/s eta 0:00:05\n",
      "   ------------------------------- -------- 34.1/43.6 MB 2.4 MB/s eta 0:00:04\n",
      "   ------------------------------- -------- 34.3/43.6 MB 2.4 MB/s eta 0:00:04\n",
      "   ------------------------------- -------- 34.6/43.6 MB 2.4 MB/s eta 0:00:04\n",
      "   ------------------------------- -------- 34.9/43.6 MB 2.4 MB/s eta 0:00:04\n",
      "   -------------------------------- ------- 35.1/43.6 MB 2.4 MB/s eta 0:00:04\n",
      "   -------------------------------- ------- 35.7/43.6 MB 2.3 MB/s eta 0:00:04\n",
      "   -------------------------------- ------- 35.9/43.6 MB 2.3 MB/s eta 0:00:04\n",
      "   --------------------------------- ------ 36.4/43.6 MB 2.3 MB/s eta 0:00:04\n",
      "   --------------------------------- ------ 36.7/43.6 MB 2.3 MB/s eta 0:00:04\n",
      "   --------------------------------- ------ 37.0/43.6 MB 2.3 MB/s eta 0:00:03\n",
      "   ---------------------------------- ----- 37.2/43.6 MB 2.3 MB/s eta 0:00:03\n",
      "   ---------------------------------- ----- 37.7/43.6 MB 2.3 MB/s eta 0:00:03\n",
      "   ----------------------------------- ---- 38.3/43.6 MB 2.3 MB/s eta 0:00:03\n",
      "   ----------------------------------- ---- 38.5/43.6 MB 2.3 MB/s eta 0:00:03\n",
      "   ----------------------------------- ---- 38.8/43.6 MB 2.3 MB/s eta 0:00:03\n",
      "   ------------------------------------ --- 39.3/43.6 MB 2.2 MB/s eta 0:00:02\n",
      "   ------------------------------------ --- 39.6/43.6 MB 2.2 MB/s eta 0:00:02\n",
      "   ------------------------------------ --- 40.1/43.6 MB 2.2 MB/s eta 0:00:02\n",
      "   ------------------------------------- -- 40.6/43.6 MB 2.2 MB/s eta 0:00:02\n",
      "   ------------------------------------- -- 40.9/43.6 MB 2.2 MB/s eta 0:00:02\n",
      "   ------------------------------------- -- 41.2/43.6 MB 2.2 MB/s eta 0:00:02\n",
      "   -------------------------------------- - 41.7/43.6 MB 2.2 MB/s eta 0:00:01\n",
      "   -------------------------------------- - 42.2/43.6 MB 2.2 MB/s eta 0:00:01\n",
      "   -------------------------------------- - 42.5/43.6 MB 2.2 MB/s eta 0:00:01\n",
      "   ---------------------------------------  42.7/43.6 MB 2.2 MB/s eta 0:00:01\n",
      "   ---------------------------------------  43.0/43.6 MB 2.2 MB/s eta 0:00:01\n",
      "   ---------------------------------------  43.5/43.6 MB 2.2 MB/s eta 0:00:01\n",
      "   ---------------------------------------- 43.6/43.6 MB 2.2 MB/s eta 0:00:00\n",
      "Downloading threadpoolctl-3.5.0-py3-none-any.whl (18 kB)\n",
      "Installing collected packages: threadpoolctl, scipy, scikit-learn\n",
      "Successfully installed scikit-learn-1.6.1 scipy-1.15.1 threadpoolctl-3.5.0\n",
      "Note: you may need to restart the kernel to use updated packages.\n"
     ]
    }
   ],
   "source": [
    "pip install scikit-learn"
   ]
  },
  {
   "cell_type": "code",
   "execution_count": 1,
   "id": "c789b393-cda2-4a6f-b818-a511b4353a98",
   "metadata": {},
   "outputs": [],
   "source": [
    "import numpy as np\n",
    "import matplotlib.pyplot as plt\n",
    "from keras.models import Sequential\n",
    "from keras.layers import Dense\n",
    "from keras.optimizers import Adam\n",
    "from tensorflow.keras.utils import to_categorical\n",
    "from keras.layers import Dropout, Flatten\n",
    "from tensorflow.keras.layers import Conv2D, MaxPooling2D\n",
    "import cv2\n",
    "from sklearn.model_selection import train_test_split\n",
    "import pickle\n",
    "import os\n",
    "import pandas as pd\n",
    "from tensorflow.keras.preprocessing.image import ImageDataGenerator"
   ]
  },
  {
   "cell_type": "code",
   "execution_count": 2,
   "id": "0589d606-a402-4c40-a7d4-bffd8599b91f",
   "metadata": {
    "scrolled": true
   },
   "outputs": [
    {
     "name": "stdout",
     "output_type": "stream",
     "text": [
      "Total Classes Detected: 43\n",
      "Importing Classes.....\n",
      "0 1 2 3 4 5 6 7 8 9 10 11 12 13 14 15 16 17 18 19 20 21 22 23 24 25 26 27 28 29 30 31 32 33 34 35 36 37 38 39 40 41 42  \n",
      "Data Shapes\n",
      "Train(22271, 32, 32, 3) (22271,)\n",
      "Validation(5568, 32, 32, 3) (5568,)\n",
      "Test(6960, 32, 32, 3) (6960,)\n",
      "data shape  (43, 2) <class 'pandas.core.frame.DataFrame'>\n"
     ]
    },
    {
     "name": "stderr",
     "output_type": "stream",
     "text": [
      "D:\\Python\\Lib\\site-packages\\keras\\src\\layers\\convolutional\\base_conv.py:107: UserWarning: Do not pass an `input_shape`/`input_dim` argument to a layer. When using Sequential models, prefer using an `Input(shape)` object as the first layer in the model instead.\n",
      "  super().__init__(activity_regularizer=activity_regularizer, **kwargs)\n"
     ]
    },
    {
     "data": {
      "text/html": [
       "<pre style=\"white-space:pre;overflow-x:auto;line-height:normal;font-family:Menlo,'DejaVu Sans Mono',consolas,'Courier New',monospace\"><span style=\"font-weight: bold\">Model: \"sequential\"</span>\n",
       "</pre>\n"
      ],
      "text/plain": [
       "\u001b[1mModel: \"sequential\"\u001b[0m\n"
      ]
     },
     "metadata": {},
     "output_type": "display_data"
    },
    {
     "data": {
      "text/html": [
       "<pre style=\"white-space:pre;overflow-x:auto;line-height:normal;font-family:Menlo,'DejaVu Sans Mono',consolas,'Courier New',monospace\">┏━━━━━━━━━━━━━━━━━━━━━━━━━━━━━━━━━━━━━━┳━━━━━━━━━━━━━━━━━━━━━━━━━━━━━┳━━━━━━━━━━━━━━━━━┓\n",
       "┃<span style=\"font-weight: bold\"> Layer (type)                         </span>┃<span style=\"font-weight: bold\"> Output Shape                </span>┃<span style=\"font-weight: bold\">         Param # </span>┃\n",
       "┡━━━━━━━━━━━━━━━━━━━━━━━━━━━━━━━━━━━━━━╇━━━━━━━━━━━━━━━━━━━━━━━━━━━━━╇━━━━━━━━━━━━━━━━━┩\n",
       "│ conv2d (<span style=\"color: #0087ff; text-decoration-color: #0087ff\">Conv2D</span>)                      │ (<span style=\"color: #00d7ff; text-decoration-color: #00d7ff\">None</span>, <span style=\"color: #00af00; text-decoration-color: #00af00\">28</span>, <span style=\"color: #00af00; text-decoration-color: #00af00\">28</span>, <span style=\"color: #00af00; text-decoration-color: #00af00\">60</span>)          │           <span style=\"color: #00af00; text-decoration-color: #00af00\">1,560</span> │\n",
       "├──────────────────────────────────────┼─────────────────────────────┼─────────────────┤\n",
       "│ conv2d_1 (<span style=\"color: #0087ff; text-decoration-color: #0087ff\">Conv2D</span>)                    │ (<span style=\"color: #00d7ff; text-decoration-color: #00d7ff\">None</span>, <span style=\"color: #00af00; text-decoration-color: #00af00\">24</span>, <span style=\"color: #00af00; text-decoration-color: #00af00\">24</span>, <span style=\"color: #00af00; text-decoration-color: #00af00\">60</span>)          │          <span style=\"color: #00af00; text-decoration-color: #00af00\">90,060</span> │\n",
       "├──────────────────────────────────────┼─────────────────────────────┼─────────────────┤\n",
       "│ max_pooling2d (<span style=\"color: #0087ff; text-decoration-color: #0087ff\">MaxPooling2D</span>)         │ (<span style=\"color: #00d7ff; text-decoration-color: #00d7ff\">None</span>, <span style=\"color: #00af00; text-decoration-color: #00af00\">12</span>, <span style=\"color: #00af00; text-decoration-color: #00af00\">12</span>, <span style=\"color: #00af00; text-decoration-color: #00af00\">60</span>)          │               <span style=\"color: #00af00; text-decoration-color: #00af00\">0</span> │\n",
       "├──────────────────────────────────────┼─────────────────────────────┼─────────────────┤\n",
       "│ conv2d_2 (<span style=\"color: #0087ff; text-decoration-color: #0087ff\">Conv2D</span>)                    │ (<span style=\"color: #00d7ff; text-decoration-color: #00d7ff\">None</span>, <span style=\"color: #00af00; text-decoration-color: #00af00\">10</span>, <span style=\"color: #00af00; text-decoration-color: #00af00\">10</span>, <span style=\"color: #00af00; text-decoration-color: #00af00\">30</span>)          │          <span style=\"color: #00af00; text-decoration-color: #00af00\">16,230</span> │\n",
       "├──────────────────────────────────────┼─────────────────────────────┼─────────────────┤\n",
       "│ conv2d_3 (<span style=\"color: #0087ff; text-decoration-color: #0087ff\">Conv2D</span>)                    │ (<span style=\"color: #00d7ff; text-decoration-color: #00d7ff\">None</span>, <span style=\"color: #00af00; text-decoration-color: #00af00\">8</span>, <span style=\"color: #00af00; text-decoration-color: #00af00\">8</span>, <span style=\"color: #00af00; text-decoration-color: #00af00\">30</span>)            │           <span style=\"color: #00af00; text-decoration-color: #00af00\">8,130</span> │\n",
       "├──────────────────────────────────────┼─────────────────────────────┼─────────────────┤\n",
       "│ max_pooling2d_1 (<span style=\"color: #0087ff; text-decoration-color: #0087ff\">MaxPooling2D</span>)       │ (<span style=\"color: #00d7ff; text-decoration-color: #00d7ff\">None</span>, <span style=\"color: #00af00; text-decoration-color: #00af00\">4</span>, <span style=\"color: #00af00; text-decoration-color: #00af00\">4</span>, <span style=\"color: #00af00; text-decoration-color: #00af00\">30</span>)            │               <span style=\"color: #00af00; text-decoration-color: #00af00\">0</span> │\n",
       "├──────────────────────────────────────┼─────────────────────────────┼─────────────────┤\n",
       "│ dropout (<span style=\"color: #0087ff; text-decoration-color: #0087ff\">Dropout</span>)                    │ (<span style=\"color: #00d7ff; text-decoration-color: #00d7ff\">None</span>, <span style=\"color: #00af00; text-decoration-color: #00af00\">4</span>, <span style=\"color: #00af00; text-decoration-color: #00af00\">4</span>, <span style=\"color: #00af00; text-decoration-color: #00af00\">30</span>)            │               <span style=\"color: #00af00; text-decoration-color: #00af00\">0</span> │\n",
       "├──────────────────────────────────────┼─────────────────────────────┼─────────────────┤\n",
       "│ flatten (<span style=\"color: #0087ff; text-decoration-color: #0087ff\">Flatten</span>)                    │ (<span style=\"color: #00d7ff; text-decoration-color: #00d7ff\">None</span>, <span style=\"color: #00af00; text-decoration-color: #00af00\">480</span>)                 │               <span style=\"color: #00af00; text-decoration-color: #00af00\">0</span> │\n",
       "├──────────────────────────────────────┼─────────────────────────────┼─────────────────┤\n",
       "│ dense (<span style=\"color: #0087ff; text-decoration-color: #0087ff\">Dense</span>)                        │ (<span style=\"color: #00d7ff; text-decoration-color: #00d7ff\">None</span>, <span style=\"color: #00af00; text-decoration-color: #00af00\">500</span>)                 │         <span style=\"color: #00af00; text-decoration-color: #00af00\">240,500</span> │\n",
       "├──────────────────────────────────────┼─────────────────────────────┼─────────────────┤\n",
       "│ dropout_1 (<span style=\"color: #0087ff; text-decoration-color: #0087ff\">Dropout</span>)                  │ (<span style=\"color: #00d7ff; text-decoration-color: #00d7ff\">None</span>, <span style=\"color: #00af00; text-decoration-color: #00af00\">500</span>)                 │               <span style=\"color: #00af00; text-decoration-color: #00af00\">0</span> │\n",
       "├──────────────────────────────────────┼─────────────────────────────┼─────────────────┤\n",
       "│ dense_1 (<span style=\"color: #0087ff; text-decoration-color: #0087ff\">Dense</span>)                      │ (<span style=\"color: #00d7ff; text-decoration-color: #00d7ff\">None</span>, <span style=\"color: #00af00; text-decoration-color: #00af00\">43</span>)                  │          <span style=\"color: #00af00; text-decoration-color: #00af00\">21,543</span> │\n",
       "└──────────────────────────────────────┴─────────────────────────────┴─────────────────┘\n",
       "</pre>\n"
      ],
      "text/plain": [
       "┏━━━━━━━━━━━━━━━━━━━━━━━━━━━━━━━━━━━━━━┳━━━━━━━━━━━━━━━━━━━━━━━━━━━━━┳━━━━━━━━━━━━━━━━━┓\n",
       "┃\u001b[1m \u001b[0m\u001b[1mLayer (type)                        \u001b[0m\u001b[1m \u001b[0m┃\u001b[1m \u001b[0m\u001b[1mOutput Shape               \u001b[0m\u001b[1m \u001b[0m┃\u001b[1m \u001b[0m\u001b[1m        Param #\u001b[0m\u001b[1m \u001b[0m┃\n",
       "┡━━━━━━━━━━━━━━━━━━━━━━━━━━━━━━━━━━━━━━╇━━━━━━━━━━━━━━━━━━━━━━━━━━━━━╇━━━━━━━━━━━━━━━━━┩\n",
       "│ conv2d (\u001b[38;5;33mConv2D\u001b[0m)                      │ (\u001b[38;5;45mNone\u001b[0m, \u001b[38;5;34m28\u001b[0m, \u001b[38;5;34m28\u001b[0m, \u001b[38;5;34m60\u001b[0m)          │           \u001b[38;5;34m1,560\u001b[0m │\n",
       "├──────────────────────────────────────┼─────────────────────────────┼─────────────────┤\n",
       "│ conv2d_1 (\u001b[38;5;33mConv2D\u001b[0m)                    │ (\u001b[38;5;45mNone\u001b[0m, \u001b[38;5;34m24\u001b[0m, \u001b[38;5;34m24\u001b[0m, \u001b[38;5;34m60\u001b[0m)          │          \u001b[38;5;34m90,060\u001b[0m │\n",
       "├──────────────────────────────────────┼─────────────────────────────┼─────────────────┤\n",
       "│ max_pooling2d (\u001b[38;5;33mMaxPooling2D\u001b[0m)         │ (\u001b[38;5;45mNone\u001b[0m, \u001b[38;5;34m12\u001b[0m, \u001b[38;5;34m12\u001b[0m, \u001b[38;5;34m60\u001b[0m)          │               \u001b[38;5;34m0\u001b[0m │\n",
       "├──────────────────────────────────────┼─────────────────────────────┼─────────────────┤\n",
       "│ conv2d_2 (\u001b[38;5;33mConv2D\u001b[0m)                    │ (\u001b[38;5;45mNone\u001b[0m, \u001b[38;5;34m10\u001b[0m, \u001b[38;5;34m10\u001b[0m, \u001b[38;5;34m30\u001b[0m)          │          \u001b[38;5;34m16,230\u001b[0m │\n",
       "├──────────────────────────────────────┼─────────────────────────────┼─────────────────┤\n",
       "│ conv2d_3 (\u001b[38;5;33mConv2D\u001b[0m)                    │ (\u001b[38;5;45mNone\u001b[0m, \u001b[38;5;34m8\u001b[0m, \u001b[38;5;34m8\u001b[0m, \u001b[38;5;34m30\u001b[0m)            │           \u001b[38;5;34m8,130\u001b[0m │\n",
       "├──────────────────────────────────────┼─────────────────────────────┼─────────────────┤\n",
       "│ max_pooling2d_1 (\u001b[38;5;33mMaxPooling2D\u001b[0m)       │ (\u001b[38;5;45mNone\u001b[0m, \u001b[38;5;34m4\u001b[0m, \u001b[38;5;34m4\u001b[0m, \u001b[38;5;34m30\u001b[0m)            │               \u001b[38;5;34m0\u001b[0m │\n",
       "├──────────────────────────────────────┼─────────────────────────────┼─────────────────┤\n",
       "│ dropout (\u001b[38;5;33mDropout\u001b[0m)                    │ (\u001b[38;5;45mNone\u001b[0m, \u001b[38;5;34m4\u001b[0m, \u001b[38;5;34m4\u001b[0m, \u001b[38;5;34m30\u001b[0m)            │               \u001b[38;5;34m0\u001b[0m │\n",
       "├──────────────────────────────────────┼─────────────────────────────┼─────────────────┤\n",
       "│ flatten (\u001b[38;5;33mFlatten\u001b[0m)                    │ (\u001b[38;5;45mNone\u001b[0m, \u001b[38;5;34m480\u001b[0m)                 │               \u001b[38;5;34m0\u001b[0m │\n",
       "├──────────────────────────────────────┼─────────────────────────────┼─────────────────┤\n",
       "│ dense (\u001b[38;5;33mDense\u001b[0m)                        │ (\u001b[38;5;45mNone\u001b[0m, \u001b[38;5;34m500\u001b[0m)                 │         \u001b[38;5;34m240,500\u001b[0m │\n",
       "├──────────────────────────────────────┼─────────────────────────────┼─────────────────┤\n",
       "│ dropout_1 (\u001b[38;5;33mDropout\u001b[0m)                  │ (\u001b[38;5;45mNone\u001b[0m, \u001b[38;5;34m500\u001b[0m)                 │               \u001b[38;5;34m0\u001b[0m │\n",
       "├──────────────────────────────────────┼─────────────────────────────┼─────────────────┤\n",
       "│ dense_1 (\u001b[38;5;33mDense\u001b[0m)                      │ (\u001b[38;5;45mNone\u001b[0m, \u001b[38;5;34m43\u001b[0m)                  │          \u001b[38;5;34m21,543\u001b[0m │\n",
       "└──────────────────────────────────────┴─────────────────────────────┴─────────────────┘\n"
      ]
     },
     "metadata": {},
     "output_type": "display_data"
    },
    {
     "data": {
      "text/html": [
       "<pre style=\"white-space:pre;overflow-x:auto;line-height:normal;font-family:Menlo,'DejaVu Sans Mono',consolas,'Courier New',monospace\"><span style=\"font-weight: bold\"> Total params: </span><span style=\"color: #00af00; text-decoration-color: #00af00\">378,023</span> (1.44 MB)\n",
       "</pre>\n"
      ],
      "text/plain": [
       "\u001b[1m Total params: \u001b[0m\u001b[38;5;34m378,023\u001b[0m (1.44 MB)\n"
      ]
     },
     "metadata": {},
     "output_type": "display_data"
    },
    {
     "data": {
      "text/html": [
       "<pre style=\"white-space:pre;overflow-x:auto;line-height:normal;font-family:Menlo,'DejaVu Sans Mono',consolas,'Courier New',monospace\"><span style=\"font-weight: bold\"> Trainable params: </span><span style=\"color: #00af00; text-decoration-color: #00af00\">378,023</span> (1.44 MB)\n",
       "</pre>\n"
      ],
      "text/plain": [
       "\u001b[1m Trainable params: \u001b[0m\u001b[38;5;34m378,023\u001b[0m (1.44 MB)\n"
      ]
     },
     "metadata": {},
     "output_type": "display_data"
    },
    {
     "data": {
      "text/html": [
       "<pre style=\"white-space:pre;overflow-x:auto;line-height:normal;font-family:Menlo,'DejaVu Sans Mono',consolas,'Courier New',monospace\"><span style=\"font-weight: bold\"> Non-trainable params: </span><span style=\"color: #00af00; text-decoration-color: #00af00\">0</span> (0.00 B)\n",
       "</pre>\n"
      ],
      "text/plain": [
       "\u001b[1m Non-trainable params: \u001b[0m\u001b[38;5;34m0\u001b[0m (0.00 B)\n"
      ]
     },
     "metadata": {},
     "output_type": "display_data"
    },
    {
     "name": "stdout",
     "output_type": "stream",
     "text": [
      "None\n",
      "Epoch 1/10\n"
     ]
    },
    {
     "name": "stderr",
     "output_type": "stream",
     "text": [
      "D:\\Python\\Lib\\site-packages\\keras\\src\\trainers\\data_adapters\\py_dataset_adapter.py:121: UserWarning: Your `PyDataset` class should call `super().__init__(**kwargs)` in its constructor. `**kwargs` can include `workers`, `use_multiprocessing`, `max_queue_size`. Do not pass these arguments to `fit()`, as they will be ignored.\n",
      "  self._warn_if_super_not_called()\n"
     ]
    },
    {
     "name": "stdout",
     "output_type": "stream",
     "text": [
      "\u001b[1m695/695\u001b[0m \u001b[32m━━━━━━━━━━━━━━━━━━━━\u001b[0m\u001b[37m\u001b[0m \u001b[1m203s\u001b[0m 287ms/step - accuracy: 0.1713 - loss: 3.0549 - val_accuracy: 0.7893 - val_loss: 0.7466\n",
      "Epoch 2/10\n",
      "\u001b[1m  1/695\u001b[0m \u001b[37m━━━━━━━━━━━━━━━━━━━━\u001b[0m \u001b[1m2:37\u001b[0m 227ms/step - accuracy: 0.6875 - loss: 1.3439"
     ]
    },
    {
     "name": "stderr",
     "output_type": "stream",
     "text": [
      "D:\\Python\\Lib\\contextlib.py:158: UserWarning: Your input ran out of data; interrupting training. Make sure that your dataset or generator can generate at least `steps_per_epoch * epochs` batches. You may need to use the `.repeat()` function when building your dataset.\n",
      "  self.gen.throw(value)\n"
     ]
    },
    {
     "name": "stdout",
     "output_type": "stream",
     "text": [
      "\u001b[1m695/695\u001b[0m \u001b[32m━━━━━━━━━━━━━━━━━━━━\u001b[0m\u001b[37m\u001b[0m \u001b[1m16s\u001b[0m 23ms/step - accuracy: 0.6875 - loss: 1.3439 - val_accuracy: 0.7827 - val_loss: 0.7466\n",
      "Epoch 3/10\n",
      "\u001b[1m695/695\u001b[0m \u001b[32m━━━━━━━━━━━━━━━━━━━━\u001b[0m\u001b[37m\u001b[0m \u001b[1m206s\u001b[0m 296ms/step - accuracy: 0.6165 - loss: 1.2459 - val_accuracy: 0.9107 - val_loss: 0.3032\n",
      "Epoch 4/10\n",
      "\u001b[1m695/695\u001b[0m \u001b[32m━━━━━━━━━━━━━━━━━━━━\u001b[0m\u001b[37m\u001b[0m \u001b[1m13s\u001b[0m 19ms/step - accuracy: 0.8125 - loss: 0.6261 - val_accuracy: 0.9061 - val_loss: 0.3184\n",
      "Epoch 5/10\n",
      "\u001b[1m695/695\u001b[0m \u001b[32m━━━━━━━━━━━━━━━━━━━━\u001b[0m\u001b[37m\u001b[0m \u001b[1m208s\u001b[0m 298ms/step - accuracy: 0.7386 - loss: 0.8358 - val_accuracy: 0.9503 - val_loss: 0.1717\n",
      "Epoch 6/10\n",
      "\u001b[1m695/695\u001b[0m \u001b[32m━━━━━━━━━━━━━━━━━━━━\u001b[0m\u001b[37m\u001b[0m \u001b[1m12s\u001b[0m 18ms/step - accuracy: 0.5938 - loss: 1.0829 - val_accuracy: 0.9520 - val_loss: 0.1665\n",
      "Epoch 7/10\n",
      "\u001b[1m695/695\u001b[0m \u001b[32m━━━━━━━━━━━━━━━━━━━━\u001b[0m\u001b[37m\u001b[0m \u001b[1m537s\u001b[0m 773ms/step - accuracy: 0.8070 - loss: 0.6154 - val_accuracy: 0.9693 - val_loss: 0.1179\n",
      "Epoch 8/10\n",
      "\u001b[1m695/695\u001b[0m \u001b[32m━━━━━━━━━━━━━━━━━━━━\u001b[0m\u001b[37m\u001b[0m \u001b[1m17s\u001b[0m 24ms/step - accuracy: 0.7812 - loss: 0.6728 - val_accuracy: 0.9707 - val_loss: 0.1163\n",
      "Epoch 9/10\n",
      "\u001b[1m695/695\u001b[0m \u001b[32m━━━━━━━━━━━━━━━━━━━━\u001b[0m\u001b[37m\u001b[0m \u001b[1m216s\u001b[0m 312ms/step - accuracy: 0.8454 - loss: 0.4879 - val_accuracy: 0.9731 - val_loss: 0.0979\n",
      "Epoch 10/10\n",
      "\u001b[1m695/695\u001b[0m \u001b[32m━━━━━━━━━━━━━━━━━━━━\u001b[0m\u001b[37m\u001b[0m \u001b[1m13s\u001b[0m 19ms/step - accuracy: 0.9062 - loss: 0.3872 - val_accuracy: 0.9749 - val_loss: 0.0963\n"
     ]
    },
    {
     "data": {
      "image/png": "[encoded data removed]",
      "text/plain": [
       "<Figure size 640x480 with 1 Axes>"
      ]
     },
     "metadata": {},
     "output_type": "display_data"
    },
    {
     "data": {
      "image/png": "[encoded data removed]",
      "text/plain": [
       "<Figure size 640x480 with 1 Axes>"
      ]
     },
     "metadata": {},
     "output_type": "display_data"
    },
    {
     "name": "stderr",
     "output_type": "stream",
     "text": [
      "WARNING:absl:You are saving your model as an HDF5 file via `model.save()` or `keras.saving.save_model(model)`. This file format is considered legacy. We recommend using instead the native Keras format, e.g. `model.save('my_model.keras')` or `keras.saving.save_model(model, 'my_model.keras')`. \n"
     ]
    },
    {
     "name": "stdout",
     "output_type": "stream",
     "text": [
      "Test Score: 0.09148402512073517\n",
      "Test Accuracy: 0.9757183790206909\n"
     ]
    }
   ],
   "source": [
    "path = \"Dataset\"\n",
    "labelFile = 'labels.csv'\n",
    "batch_size_val=32\n",
    "epochs_val=10\n",
    "imageDimesions = (32,32,3)\n",
    "testRatio = 0.2\n",
    "validationRatio = 0.2\n",
    "\n",
    "count = 0\n",
    "images = []\n",
    "classNo = []\n",
    "myList = os.listdir(path)\n",
    "print(\"Total Classes Detected:\",len(myList))\n",
    "noOfClasses=len(myList)\n",
    "print(\"Importing Classes.....\")\n",
    "for x in range (0,len(myList)):\n",
    "    myPicList = os.listdir(path+\"/\"+str(count))\n",
    "    for y in myPicList:\n",
    "        curImg = cv2.imread(path+\"/\"+str(count)+\"/\"+y)\n",
    "        images.append(curImg)\n",
    "        classNo.append(count)\n",
    "    print(count, end =\" \")\n",
    "    count +=1\n",
    "print(\" \")\n",
    "images = np.array(images)\n",
    "classNo = np.array(classNo)\n",
    " \n",
    "X_train, X_test, y_train, y_test = train_test_split(images, classNo, test_size=testRatio)\n",
    "X_train, X_validation, y_train, y_validation = train_test_split(X_train, y_train, test_size=validationRatio)\n",
    " \n",
    "\n",
    "print(\"Data Shapes\")\n",
    "print(\"Train\",end = \"\");print(X_train.shape,y_train.shape)\n",
    "print(\"Validation\",end = \"\");print(X_validation.shape,y_validation.shape)\n",
    "print(\"Test\",end = \"\");print(X_test.shape,y_test.shape)\n",
    "\n",
    "\n",
    "data=pd.read_csv(labelFile)\n",
    "print(\"data shape \",data.shape,type(data))\n",
    " \n",
    "num_of_samples = []\n",
    "cols = 5\n",
    "num_classes = noOfClasses\n",
    "\n",
    "def grayscale(img):\n",
    "    img = cv2.cvtColor(img,cv2.COLOR_BGR2GRAY)\n",
    "    return img\n",
    "def equalize(img):\n",
    "    img =cv2.equalizeHist(img)\n",
    "    return img\n",
    "def preprocessing(img):\n",
    "    img = grayscale(img)     \n",
    "    img = equalize(img)      \n",
    "    img = img/255            \n",
    "    return img\n",
    " \n",
    "X_train=np.array(list(map(preprocessing,X_train)))  \n",
    "X_validation=np.array(list(map(preprocessing,X_validation)))\n",
    "X_test=np.array(list(map(preprocessing,X_test)))\n",
    "\n",
    "\n",
    "X_train=X_train.reshape(X_train.shape[0],X_train.shape[1],X_train.shape[2],1)\n",
    "X_validation=X_validation.reshape(X_validation.shape[0],X_validation.shape[1],X_validation.shape[2],1)\n",
    "X_test=X_test.reshape(X_test.shape[0],X_test.shape[1],X_test.shape[2],1)\n",
    " \n",
    " \n",
    "dataGen= ImageDataGenerator(width_shift_range=0.1,   \n",
    "                            height_shift_range=0.1,\n",
    "                            zoom_range=0.2,  \n",
    "                            shear_range=0.1,  \n",
    "                            rotation_range=10)  \n",
    "dataGen.fit(X_train)\n",
    "batches= dataGen.flow(X_train,y_train,batch_size=20)\n",
    "X_batch,y_batch = next(batches)\n",
    "\n",
    "y_train = to_categorical(y_train,noOfClasses)\n",
    "y_validation = to_categorical(y_validation,noOfClasses)\n",
    "y_test = to_categorical(y_test,noOfClasses)\n",
    "\n",
    "# history = model.fit(\n",
    "#     batches, \n",
    "#     steps_per_epoch=len(X_train)//32, \n",
    "#     epochs=epochs_val, \n",
    "#     validation_data=(X_validation, y_validation), \n",
    "#     shuffle=True\n",
    "# )\n",
    "\n",
    "\n",
    "def myModel():\n",
    "    model= Sequential()\n",
    "    model.add((Conv2D(60,(5,5),input_shape=(imageDimesions[0],imageDimesions[1],1),activation='relu')))\n",
    "    model.add((Conv2D(60, (5,5), activation='relu')))\n",
    "    model.add(MaxPooling2D(pool_size=(2,2)))\n",
    " \n",
    "    model.add((Conv2D(30, (3,3),activation='relu')))\n",
    "    model.add((Conv2D(30, (3,3), activation='relu')))\n",
    "    model.add(MaxPooling2D(pool_size=(2,2)))\n",
    "    model.add(Dropout(0.5))\n",
    " \n",
    "    model.add(Flatten())\n",
    "    model.add(Dense(500,activation='relu'))\n",
    "    model.add(Dropout(0.5))\n",
    "    model.add(Dense(noOfClasses,activation='softmax')) \n",
    "    model.compile(Adam(learning_rate=0.001),loss='categorical_crossentropy',metrics=['accuracy'])\n",
    "    return model\n",
    " \n",
    "model = myModel()\n",
    "print(model.summary())\n",
    "history=model.fit(dataGen.flow(X_train,y_train,batch_size=32),steps_per_epoch=len(X_train)//32,epochs=epochs_val,validation_data=(X_validation,y_validation),shuffle=1)\n",
    " \n",
    "plt.figure(1)\n",
    "plt.plot(history.history['loss'])\n",
    "plt.plot(history.history['val_loss'])\n",
    "plt.legend(['training','validation'])\n",
    "plt.title('loss')\n",
    "plt.xlabel('epoch')\n",
    "plt.figure(2)\n",
    "plt.plot(history.history['accuracy'])\n",
    "plt.plot(history.history['val_accuracy'])\n",
    "plt.legend(['training','validation'])\n",
    "plt.title('Acurracy')\n",
    "plt.xlabel('epoch')\n",
    "plt.show()\n",
    "score =model.evaluate(X_test,y_test,verbose=0)\n",
    "print('Test Score:',score[0])\n",
    "print('Test Accuracy:',score[1])\n",
    " \n",
    "model.save(\"model.h5\")"
   ]
  },
  {
   "cell_type": "code",
   "execution_count": null,
   "id": "aedc6b5d-2f9b-496b-a8ae-d7d669c85678",
   "metadata": {},
   "outputs": [],
   "source": []
  }
 ],
 "metadata": {
  "kernelspec": {
   "display_name": "Python 3 (ipykernel)",
   "language": "python",
   "name": "python3"
  },
  "language_info": {
   "codemirror_mode": {
    "name": "ipython",
    "version": 3
   },
   "file_extension": ".py",
   "mimetype": "text/x-python",
   "name": "python",
   "nbconvert_exporter": "python",
   "pygments_lexer": "ipython3",
   "version": "3.12.6"
  }
 },
 "nbformat": 4,
 "nbformat_minor": 5
}
